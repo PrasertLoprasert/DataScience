{
 "cells": [
  {
   "cell_type": "code",
   "execution_count": 1,
   "id": "906ed5df-a8c6-46e5-a913-60c7324a87c3",
   "metadata": {},
   "outputs": [],
   "source": [
    "# Load data file (.csv)\n",
    "import pandas as pd\n",
    "df = pd.read_csv('transaction_data.csv')"
   ]
  },
  {
   "cell_type": "code",
   "execution_count": 2,
   "id": "fa114bad-5ccd-4865-ab36-3760e08b6920",
   "metadata": {},
   "outputs": [
    {
     "data": {
      "text/html": [
       "<div>\n",
       "<style scoped>\n",
       "    .dataframe tbody tr th:only-of-type {\n",
       "        vertical-align: middle;\n",
       "    }\n",
       "\n",
       "    .dataframe tbody tr th {\n",
       "        vertical-align: top;\n",
       "    }\n",
       "\n",
       "    .dataframe thead th {\n",
       "        text-align: right;\n",
       "    }\n",
       "</style>\n",
       "<table border=\"1\" class=\"dataframe\">\n",
       "  <thead>\n",
       "    <tr style=\"text-align: right;\">\n",
       "      <th></th>\n",
       "      <th>UserId</th>\n",
       "      <th>TransactionId</th>\n",
       "      <th>TransactionTime</th>\n",
       "      <th>ItemCode</th>\n",
       "      <th>ItemDescription</th>\n",
       "      <th>NumberOfItemsPurchased</th>\n",
       "      <th>CostPerItem</th>\n",
       "      <th>Country</th>\n",
       "    </tr>\n",
       "  </thead>\n",
       "  <tbody>\n",
       "    <tr>\n",
       "      <th>0</th>\n",
       "      <td>278166</td>\n",
       "      <td>6355745</td>\n",
       "      <td>Sat Feb 02 12:50:00 IST 2019</td>\n",
       "      <td>465549</td>\n",
       "      <td>FAMILY ALBUM WHITE PICTURE FRAME</td>\n",
       "      <td>6</td>\n",
       "      <td>11.73</td>\n",
       "      <td>United Kingdom</td>\n",
       "    </tr>\n",
       "    <tr>\n",
       "      <th>1</th>\n",
       "      <td>337701</td>\n",
       "      <td>6283376</td>\n",
       "      <td>Wed Dec 26 09:06:00 IST 2018</td>\n",
       "      <td>482370</td>\n",
       "      <td>LONDON BUS COFFEE MUG</td>\n",
       "      <td>3</td>\n",
       "      <td>3.52</td>\n",
       "      <td>United Kingdom</td>\n",
       "    </tr>\n",
       "    <tr>\n",
       "      <th>2</th>\n",
       "      <td>267099</td>\n",
       "      <td>6385599</td>\n",
       "      <td>Fri Feb 15 09:45:00 IST 2019</td>\n",
       "      <td>490728</td>\n",
       "      <td>SET 12 COLOUR PENCILS DOLLY GIRL</td>\n",
       "      <td>72</td>\n",
       "      <td>0.90</td>\n",
       "      <td>France</td>\n",
       "    </tr>\n",
       "    <tr>\n",
       "      <th>3</th>\n",
       "      <td>380478</td>\n",
       "      <td>6044973</td>\n",
       "      <td>Fri Jun 22 07:14:00 IST 2018</td>\n",
       "      <td>459186</td>\n",
       "      <td>UNION JACK FLAG LUGGAGE TAG</td>\n",
       "      <td>3</td>\n",
       "      <td>1.73</td>\n",
       "      <td>United Kingdom</td>\n",
       "    </tr>\n",
       "    <tr>\n",
       "      <th>4</th>\n",
       "      <td>-1</td>\n",
       "      <td>6143225</td>\n",
       "      <td>Mon Sep 10 11:58:00 IST 2018</td>\n",
       "      <td>1733592</td>\n",
       "      <td>WASHROOM METAL SIGN</td>\n",
       "      <td>3</td>\n",
       "      <td>3.40</td>\n",
       "      <td>United Kingdom</td>\n",
       "    </tr>\n",
       "    <tr>\n",
       "      <th>...</th>\n",
       "      <td>...</td>\n",
       "      <td>...</td>\n",
       "      <td>...</td>\n",
       "      <td>...</td>\n",
       "      <td>...</td>\n",
       "      <td>...</td>\n",
       "      <td>...</td>\n",
       "      <td>...</td>\n",
       "    </tr>\n",
       "    <tr>\n",
       "      <th>2167631</th>\n",
       "      <td>313131</td>\n",
       "      <td>6040298</td>\n",
       "      <td>Mon Jun 18 09:18:00 IST 2018</td>\n",
       "      <td>437976</td>\n",
       "      <td>DENIM PATCH PURSE PINK BUTTERFLY</td>\n",
       "      <td>30</td>\n",
       "      <td>2.28</td>\n",
       "      <td>EIRE</td>\n",
       "    </tr>\n",
       "    <tr>\n",
       "      <th>2167632</th>\n",
       "      <td>295743</td>\n",
       "      <td>6387117</td>\n",
       "      <td>Sat Feb 16 09:14:00 IST 2019</td>\n",
       "      <td>484113</td>\n",
       "      <td>RECYCLED ACAPULCO MAT PINK</td>\n",
       "      <td>6</td>\n",
       "      <td>11.39</td>\n",
       "      <td>United Kingdom</td>\n",
       "    </tr>\n",
       "    <tr>\n",
       "      <th>2167633</th>\n",
       "      <td>-1</td>\n",
       "      <td>6361817</td>\n",
       "      <td>Tue Feb 05 05:26:00 IST 2019</td>\n",
       "      <td>497595</td>\n",
       "      <td>DOILY THANK YOU CARD</td>\n",
       "      <td>15</td>\n",
       "      <td>1.15</td>\n",
       "      <td>United Kingdom</td>\n",
       "    </tr>\n",
       "    <tr>\n",
       "      <th>2167634</th>\n",
       "      <td>324765</td>\n",
       "      <td>5945500</td>\n",
       "      <td>Fri Mar 23 06:26:00 IST 2018</td>\n",
       "      <td>470883</td>\n",
       "      <td>REGENCY CAKESTAND 3 TIER</td>\n",
       "      <td>48</td>\n",
       "      <td>15.12</td>\n",
       "      <td>United Kingdom</td>\n",
       "    </tr>\n",
       "    <tr>\n",
       "      <th>2167635</th>\n",
       "      <td>351645</td>\n",
       "      <td>6118145</td>\n",
       "      <td>Tue Aug 21 08:21:00 IST 2018</td>\n",
       "      <td>471849</td>\n",
       "      <td>HEART OF WICKER SMALL</td>\n",
       "      <td>9</td>\n",
       "      <td>2.28</td>\n",
       "      <td>United Kingdom</td>\n",
       "    </tr>\n",
       "  </tbody>\n",
       "</table>\n",
       "<p>2167636 rows × 8 columns</p>\n",
       "</div>"
      ],
      "text/plain": [
       "         UserId  TransactionId               TransactionTime  ItemCode  \\\n",
       "0        278166        6355745  Sat Feb 02 12:50:00 IST 2019    465549   \n",
       "1        337701        6283376  Wed Dec 26 09:06:00 IST 2018    482370   \n",
       "2        267099        6385599  Fri Feb 15 09:45:00 IST 2019    490728   \n",
       "3        380478        6044973  Fri Jun 22 07:14:00 IST 2018    459186   \n",
       "4            -1        6143225  Mon Sep 10 11:58:00 IST 2018   1733592   \n",
       "...         ...            ...                           ...       ...   \n",
       "2167631  313131        6040298  Mon Jun 18 09:18:00 IST 2018    437976   \n",
       "2167632  295743        6387117  Sat Feb 16 09:14:00 IST 2019    484113   \n",
       "2167633      -1        6361817  Tue Feb 05 05:26:00 IST 2019    497595   \n",
       "2167634  324765        5945500  Fri Mar 23 06:26:00 IST 2018    470883   \n",
       "2167635  351645        6118145  Tue Aug 21 08:21:00 IST 2018    471849   \n",
       "\n",
       "                           ItemDescription  NumberOfItemsPurchased  \\\n",
       "0         FAMILY ALBUM WHITE PICTURE FRAME                       6   \n",
       "1                    LONDON BUS COFFEE MUG                       3   \n",
       "2        SET 12 COLOUR PENCILS DOLLY GIRL                       72   \n",
       "3              UNION JACK FLAG LUGGAGE TAG                       3   \n",
       "4                      WASHROOM METAL SIGN                       3   \n",
       "...                                    ...                     ...   \n",
       "2167631   DENIM PATCH PURSE PINK BUTTERFLY                      30   \n",
       "2167632         RECYCLED ACAPULCO MAT PINK                       6   \n",
       "2167633               DOILY THANK YOU CARD                      15   \n",
       "2167634           REGENCY CAKESTAND 3 TIER                      48   \n",
       "2167635              HEART OF WICKER SMALL                       9   \n",
       "\n",
       "         CostPerItem         Country  \n",
       "0              11.73  United Kingdom  \n",
       "1               3.52  United Kingdom  \n",
       "2               0.90          France  \n",
       "3               1.73  United Kingdom  \n",
       "4               3.40  United Kingdom  \n",
       "...              ...             ...  \n",
       "2167631         2.28            EIRE  \n",
       "2167632        11.39  United Kingdom  \n",
       "2167633         1.15  United Kingdom  \n",
       "2167634        15.12  United Kingdom  \n",
       "2167635         2.28  United Kingdom  \n",
       "\n",
       "[2167636 rows x 8 columns]"
      ]
     },
     "execution_count": 2,
     "metadata": {},
     "output_type": "execute_result"
    }
   ],
   "source": [
    "df"
   ]
  },
  {
   "cell_type": "code",
   "execution_count": 3,
   "id": "64d10a4a-0b0f-44d9-83b4-9d5bc22e43d3",
   "metadata": {},
   "outputs": [],
   "source": [
    "# unique_values = df['ItemCode'].unique()"
   ]
  },
  {
   "cell_type": "code",
   "execution_count": 5,
   "id": "783fbd22-4b3d-4ab8-8d01-d24704f13be0",
   "metadata": {},
   "outputs": [
    {
     "data": {
      "text/plain": [
       "3407"
      ]
     },
     "execution_count": 5,
     "metadata": {},
     "output_type": "execute_result"
    }
   ],
   "source": [
    "# len(unique_values)"
   ]
  },
  {
   "cell_type": "code",
   "execution_count": 3,
   "id": "557f689a-33d8-4ceb-ae77-3043ecd97e44",
   "metadata": {},
   "outputs": [
    {
     "data": {
      "text/html": [
       "<div>\n",
       "<style scoped>\n",
       "    .dataframe tbody tr th:only-of-type {\n",
       "        vertical-align: middle;\n",
       "    }\n",
       "\n",
       "    .dataframe tbody tr th {\n",
       "        vertical-align: top;\n",
       "    }\n",
       "\n",
       "    .dataframe thead th {\n",
       "        text-align: right;\n",
       "    }\n",
       "</style>\n",
       "<table border=\"1\" class=\"dataframe\">\n",
       "  <thead>\n",
       "    <tr style=\"text-align: right;\">\n",
       "      <th></th>\n",
       "      <th>UserId</th>\n",
       "      <th>TransactionId</th>\n",
       "      <th>TransactionTime</th>\n",
       "      <th>ItemCode</th>\n",
       "      <th>ItemDescription</th>\n",
       "      <th>NumberOfItemsPurchased</th>\n",
       "      <th>CostPerItem</th>\n",
       "      <th>Country</th>\n",
       "    </tr>\n",
       "  </thead>\n",
       "  <tbody>\n",
       "    <tr>\n",
       "      <th>799332</th>\n",
       "      <td>-1</td>\n",
       "      <td>6309435</td>\n",
       "      <td>Sat Jan 12 10:41:00 IST 2019</td>\n",
       "      <td>448917</td>\n",
       "      <td>SMALL CAMPHOR WOOD FIELD  MUSHROOM</td>\n",
       "      <td>3</td>\n",
       "      <td>4.55</td>\n",
       "      <td>United Kingdom</td>\n",
       "    </tr>\n",
       "    <tr>\n",
       "      <th>1214788</th>\n",
       "      <td>280434</td>\n",
       "      <td>6257878</td>\n",
       "      <td>Tue Dec 11 09:17:00 IST 2018</td>\n",
       "      <td>459396</td>\n",
       "      <td>POTTERING MUG</td>\n",
       "      <td>36</td>\n",
       "      <td>1.73</td>\n",
       "      <td>United Kingdom</td>\n",
       "    </tr>\n",
       "    <tr>\n",
       "      <th>1213576</th>\n",
       "      <td>339381</td>\n",
       "      <td>6347275</td>\n",
       "      <td>Tue Jan 29 08:54:00 IST 2019</td>\n",
       "      <td>446418</td>\n",
       "      <td>VICTORIAN SEWING BOX LARGE</td>\n",
       "      <td>3</td>\n",
       "      <td>17.60</td>\n",
       "      <td>United Kingdom</td>\n",
       "    </tr>\n",
       "    <tr>\n",
       "      <th>1780115</th>\n",
       "      <td>312963</td>\n",
       "      <td>6002513</td>\n",
       "      <td>Fri May 18 07:50:00 IST 2018</td>\n",
       "      <td>478800</td>\n",
       "      <td>ANTIQUE TALL SWIRLGLASS TRINKET POT</td>\n",
       "      <td>12</td>\n",
       "      <td>5.18</td>\n",
       "      <td>United Kingdom</td>\n",
       "    </tr>\n",
       "    <tr>\n",
       "      <th>1819297</th>\n",
       "      <td>266322</td>\n",
       "      <td>5972142</td>\n",
       "      <td>Mon Apr 16 05:06:00 IST 2018</td>\n",
       "      <td>1785294</td>\n",
       "      <td>RED RETROSPOT UMBRELLA</td>\n",
       "      <td>9</td>\n",
       "      <td>8.22</td>\n",
       "      <td>France</td>\n",
       "    </tr>\n",
       "    <tr>\n",
       "      <th>944779</th>\n",
       "      <td>295176</td>\n",
       "      <td>6053267</td>\n",
       "      <td>Wed Jun 27 11:58:00 IST 2018</td>\n",
       "      <td>487347</td>\n",
       "      <td>LUNCH BAG ALPHABET DESIGN</td>\n",
       "      <td>9</td>\n",
       "      <td>2.28</td>\n",
       "      <td>United Kingdom</td>\n",
       "    </tr>\n",
       "    <tr>\n",
       "      <th>1324218</th>\n",
       "      <td>289905</td>\n",
       "      <td>6183177</td>\n",
       "      <td>Sun Oct 14 11:29:00 IST 2018</td>\n",
       "      <td>440916</td>\n",
       "      <td>JAZZ HEARTS ADDRESS BOOK</td>\n",
       "      <td>576</td>\n",
       "      <td>0.27</td>\n",
       "      <td>United Kingdom</td>\n",
       "    </tr>\n",
       "    <tr>\n",
       "      <th>1541076</th>\n",
       "      <td>273084</td>\n",
       "      <td>6370100</td>\n",
       "      <td>Sat Feb 09 07:27:00 IST 2019</td>\n",
       "      <td>475881</td>\n",
       "      <td>CHARLOTTE BAG DOLLY GIRL DESIGN</td>\n",
       "      <td>30</td>\n",
       "      <td>1.18</td>\n",
       "      <td>United Kingdom</td>\n",
       "    </tr>\n",
       "    <tr>\n",
       "      <th>1137573</th>\n",
       "      <td>263907</td>\n",
       "      <td>6219873</td>\n",
       "      <td>Fri Nov 16 10:22:00 IST 2018</td>\n",
       "      <td>998886</td>\n",
       "      <td>PARTY BUNTING</td>\n",
       "      <td>12</td>\n",
       "      <td>6.84</td>\n",
       "      <td>France</td>\n",
       "    </tr>\n",
       "    <tr>\n",
       "      <th>1447979</th>\n",
       "      <td>-1</td>\n",
       "      <td>6199039</td>\n",
       "      <td>Mon Oct 29 08:34:00 IST 2018</td>\n",
       "      <td>479598</td>\n",
       "      <td>3 TIER CAKE TIN RED AND CREAM</td>\n",
       "      <td>3</td>\n",
       "      <td>40.26</td>\n",
       "      <td>United Kingdom</td>\n",
       "    </tr>\n",
       "  </tbody>\n",
       "</table>\n",
       "</div>"
      ],
      "text/plain": [
       "         UserId  TransactionId               TransactionTime  ItemCode  \\\n",
       "799332       -1        6309435  Sat Jan 12 10:41:00 IST 2019    448917   \n",
       "1214788  280434        6257878  Tue Dec 11 09:17:00 IST 2018    459396   \n",
       "1213576  339381        6347275  Tue Jan 29 08:54:00 IST 2019    446418   \n",
       "1780115  312963        6002513  Fri May 18 07:50:00 IST 2018    478800   \n",
       "1819297  266322        5972142  Mon Apr 16 05:06:00 IST 2018   1785294   \n",
       "944779   295176        6053267  Wed Jun 27 11:58:00 IST 2018    487347   \n",
       "1324218  289905        6183177  Sun Oct 14 11:29:00 IST 2018    440916   \n",
       "1541076  273084        6370100  Sat Feb 09 07:27:00 IST 2019    475881   \n",
       "1137573  263907        6219873  Fri Nov 16 10:22:00 IST 2018    998886   \n",
       "1447979      -1        6199039  Mon Oct 29 08:34:00 IST 2018    479598   \n",
       "\n",
       "                             ItemDescription  NumberOfItemsPurchased  \\\n",
       "799332    SMALL CAMPHOR WOOD FIELD  MUSHROOM                       3   \n",
       "1214788                        POTTERING MUG                      36   \n",
       "1213576           VICTORIAN SEWING BOX LARGE                       3   \n",
       "1780115  ANTIQUE TALL SWIRLGLASS TRINKET POT                      12   \n",
       "1819297               RED RETROSPOT UMBRELLA                       9   \n",
       "944779             LUNCH BAG ALPHABET DESIGN                       9   \n",
       "1324218             JAZZ HEARTS ADDRESS BOOK                     576   \n",
       "1541076      CHARLOTTE BAG DOLLY GIRL DESIGN                      30   \n",
       "1137573                        PARTY BUNTING                      12   \n",
       "1447979        3 TIER CAKE TIN RED AND CREAM                       3   \n",
       "\n",
       "         CostPerItem         Country  \n",
       "799332          4.55  United Kingdom  \n",
       "1214788         1.73  United Kingdom  \n",
       "1213576        17.60  United Kingdom  \n",
       "1780115         5.18  United Kingdom  \n",
       "1819297         8.22          France  \n",
       "944779          2.28  United Kingdom  \n",
       "1324218         0.27  United Kingdom  \n",
       "1541076         1.18  United Kingdom  \n",
       "1137573         6.84          France  \n",
       "1447979        40.26  United Kingdom  "
      ]
     },
     "execution_count": 3,
     "metadata": {},
     "output_type": "execute_result"
    }
   ],
   "source": [
    "# ตรวจสอบ Data เบื้องต้น\n",
    "df.sample(10)"
   ]
  },
  {
   "cell_type": "code",
   "execution_count": 4,
   "id": "eeb96d5a-a3a6-420d-9033-b998465ab1fe",
   "metadata": {},
   "outputs": [
    {
     "data": {
      "text/html": [
       "<div>\n",
       "<style scoped>\n",
       "    .dataframe tbody tr th:only-of-type {\n",
       "        vertical-align: middle;\n",
       "    }\n",
       "\n",
       "    .dataframe tbody tr th {\n",
       "        vertical-align: top;\n",
       "    }\n",
       "\n",
       "    .dataframe thead th {\n",
       "        text-align: right;\n",
       "    }\n",
       "</style>\n",
       "<table border=\"1\" class=\"dataframe\">\n",
       "  <thead>\n",
       "    <tr style=\"text-align: right;\">\n",
       "      <th></th>\n",
       "      <th>UserId</th>\n",
       "      <th>TransactionId</th>\n",
       "      <th>ItemCode</th>\n",
       "      <th>NumberOfItemsPurchased</th>\n",
       "      <th>CostPerItem</th>\n",
       "    </tr>\n",
       "  </thead>\n",
       "  <tbody>\n",
       "    <tr>\n",
       "      <th>count</th>\n",
       "      <td>2.167636e+06</td>\n",
       "      <td>2.167636e+06</td>\n",
       "      <td>2.167636e+06</td>\n",
       "      <td>2.167636e+06</td>\n",
       "      <td>2.167636e+06</td>\n",
       "    </tr>\n",
       "    <tr>\n",
       "      <th>mean</th>\n",
       "      <td>2.410162e+05</td>\n",
       "      <td>6.159417e+06</td>\n",
       "      <td>6.582687e+05</td>\n",
       "      <td>2.865675e+01</td>\n",
       "      <td>9.498798e+00</td>\n",
       "    </tr>\n",
       "    <tr>\n",
       "      <th>std</th>\n",
       "      <td>1.423364e+05</td>\n",
       "      <td>1.476341e+05</td>\n",
       "      <td>4.526313e+05</td>\n",
       "      <td>6.542430e+02</td>\n",
       "      <td>2.308138e+03</td>\n",
       "    </tr>\n",
       "    <tr>\n",
       "      <th>min</th>\n",
       "      <td>-1.000000e+00</td>\n",
       "      <td>5.900015e+06</td>\n",
       "      <td>-1.000000e+00</td>\n",
       "      <td>-2.429850e+05</td>\n",
       "      <td>-1.526564e+04</td>\n",
       "    </tr>\n",
       "    <tr>\n",
       "      <th>25%</th>\n",
       "      <td>2.593920e+05</td>\n",
       "      <td>6.026856e+06</td>\n",
       "      <td>4.609080e+05</td>\n",
       "      <td>3.000000e+00</td>\n",
       "      <td>1.730000e+00</td>\n",
       "    </tr>\n",
       "    <tr>\n",
       "      <th>50%</th>\n",
       "      <td>3.020220e+05</td>\n",
       "      <td>6.166611e+06</td>\n",
       "      <td>4.752930e+05</td>\n",
       "      <td>9.000000e+00</td>\n",
       "      <td>2.880000e+00</td>\n",
       "    </tr>\n",
       "    <tr>\n",
       "      <th>75%</th>\n",
       "      <td>3.413550e+05</td>\n",
       "      <td>6.289569e+06</td>\n",
       "      <td>4.889430e+05</td>\n",
       "      <td>3.000000e+01</td>\n",
       "      <td>5.700000e+00</td>\n",
       "    </tr>\n",
       "    <tr>\n",
       "      <th>max</th>\n",
       "      <td>3.840270e+05</td>\n",
       "      <td>6.397457e+06</td>\n",
       "      <td>1.894494e+06</td>\n",
       "      <td>2.429850e+05</td>\n",
       "      <td>1.696285e+06</td>\n",
       "    </tr>\n",
       "  </tbody>\n",
       "</table>\n",
       "</div>"
      ],
      "text/plain": [
       "             UserId  TransactionId      ItemCode  NumberOfItemsPurchased  \\\n",
       "count  2.167636e+06   2.167636e+06  2.167636e+06            2.167636e+06   \n",
       "mean   2.410162e+05   6.159417e+06  6.582687e+05            2.865675e+01   \n",
       "std    1.423364e+05   1.476341e+05  4.526313e+05            6.542430e+02   \n",
       "min   -1.000000e+00   5.900015e+06 -1.000000e+00           -2.429850e+05   \n",
       "25%    2.593920e+05   6.026856e+06  4.609080e+05            3.000000e+00   \n",
       "50%    3.020220e+05   6.166611e+06  4.752930e+05            9.000000e+00   \n",
       "75%    3.413550e+05   6.289569e+06  4.889430e+05            3.000000e+01   \n",
       "max    3.840270e+05   6.397457e+06  1.894494e+06            2.429850e+05   \n",
       "\n",
       "        CostPerItem  \n",
       "count  2.167636e+06  \n",
       "mean   9.498798e+00  \n",
       "std    2.308138e+03  \n",
       "min   -1.526564e+04  \n",
       "25%    1.730000e+00  \n",
       "50%    2.880000e+00  \n",
       "75%    5.700000e+00  \n",
       "max    1.696285e+06  "
      ]
     },
     "execution_count": 4,
     "metadata": {},
     "output_type": "execute_result"
    }
   ],
   "source": [
    "df.describe()\n",
    "# จากค่า min มี column ที่มีค่าติดลบ คือ UserId, ItemCode, NumberOfItemsPurchased, CostPerItem"
   ]
  },
  {
   "cell_type": "code",
   "execution_count": 5,
   "id": "c06a402e-a526-4b1a-9003-bb585b7853ae",
   "metadata": {},
   "outputs": [
    {
     "data": {
      "text/plain": [
       "(2167636, 8)"
      ]
     },
     "execution_count": 5,
     "metadata": {},
     "output_type": "execute_result"
    }
   ],
   "source": [
    "df.shape\n",
    "# มีข้อมูลทั้งหมด 2,167,636 row | 8 columns"
   ]
  },
  {
   "cell_type": "code",
   "execution_count": 6,
   "id": "c9a3b686-1084-491b-b48c-b5219d9e58e3",
   "metadata": {},
   "outputs": [
    {
     "data": {
      "text/plain": [
       "UserId                       0\n",
       "TransactionId                0\n",
       "TransactionTime              0\n",
       "ItemCode                     0\n",
       "ItemDescription           5816\n",
       "NumberOfItemsPurchased       0\n",
       "CostPerItem                  0\n",
       "Country                      0\n",
       "dtype: int64"
      ]
     },
     "execution_count": 6,
     "metadata": {},
     "output_type": "execute_result"
    }
   ],
   "source": [
    "df.isnull().sum()"
   ]
  },
  {
   "cell_type": "code",
   "execution_count": 7,
   "id": "12b5945c-adb8-4b87-9218-cb50c4830199",
   "metadata": {},
   "outputs": [
    {
     "data": {
      "text/plain": [
       "UserId                      int64\n",
       "TransactionId               int64\n",
       "TransactionTime            object\n",
       "ItemCode                    int64\n",
       "ItemDescription            object\n",
       "NumberOfItemsPurchased      int64\n",
       "CostPerItem               float64\n",
       "Country                    object\n",
       "dtype: object"
      ]
     },
     "execution_count": 7,
     "metadata": {},
     "output_type": "execute_result"
    }
   ],
   "source": [
    "df.dtypes"
   ]
  },
  {
   "cell_type": "code",
   "execution_count": 8,
   "id": "e30ab669-5d44-4764-b45c-4fc8d6f6dae7",
   "metadata": {},
   "outputs": [
    {
     "data": {
      "text/plain": [
       "Index([      4,       7,      13,      17,      23,      24,      28,      30,\n",
       "            36,      37,\n",
       "       ...\n",
       "       2167593, 2167596, 2167597, 2167605, 2167607, 2167616, 2167619, 2167622,\n",
       "       2167628, 2167633],\n",
       "      dtype='int64', length=540320)"
      ]
     },
     "execution_count": 8,
     "metadata": {},
     "output_type": "execute_result"
    }
   ],
   "source": [
    "# หาแถวที่ข้อมูลมีค่าติดลบ ของ column UserId\n",
    "problem_idx = df[(df.UserId < 0 ) ].index\n",
    "problem_idx"
   ]
  },
  {
   "cell_type": "code",
   "execution_count": 9,
   "id": "1b051337-dd52-4f97-a576-e7584d57c8be",
   "metadata": {},
   "outputs": [
    {
     "name": "stdout",
     "output_type": "stream",
     "text": [
      "Number of rows with UserId < 0: 540320\n"
     ]
    }
   ],
   "source": [
    "problem_count = len(problem_idx)\n",
    "print(f\"Number of rows with UserId < 0: {problem_count}\")"
   ]
  },
  {
   "cell_type": "code",
   "execution_count": 10,
   "id": "deaa5e64-ae0f-4a9a-b029-3c8e22f0e520",
   "metadata": {},
   "outputs": [
    {
     "data": {
      "text/plain": [
       "Index([    154,     251,     993,    1261,    1293,    1626,    1773,    2030,\n",
       "          2064,    2263,\n",
       "       ...\n",
       "       2166132, 2166585, 2166601, 2166653, 2166926, 2167026, 2167068, 2167321,\n",
       "       2167399, 2167598],\n",
       "      dtype='int64', length=11184)"
      ]
     },
     "execution_count": 10,
     "metadata": {},
     "output_type": "execute_result"
    }
   ],
   "source": [
    "# หาแถวที่ข้อมูลมีค่าติดลบ ของ column ItemCode\n",
    "problem_idx = df[(df.ItemCode < 0 ) ].index\n",
    "problem_idx"
   ]
  },
  {
   "cell_type": "code",
   "execution_count": 11,
   "id": "80c9941b-6a81-45db-87a7-ff1952c68a9d",
   "metadata": {},
   "outputs": [
    {
     "name": "stdout",
     "output_type": "stream",
     "text": [
      "Number of rows with ItemCode < 0: 11184\n"
     ]
    }
   ],
   "source": [
    "problem_count = len(problem_idx)\n",
    "print(f\"Number of rows with ItemCode < 0: {problem_count}\")"
   ]
  },
  {
   "cell_type": "code",
   "execution_count": 12,
   "id": "f2258923-ee8f-4a1d-9166-83c83cf236ad",
   "metadata": {},
   "outputs": [
    {
     "data": {
      "text/plain": [
       "Index([     69,     135,     148,     329,     330,     353,     432,     483,\n",
       "           508,     541,\n",
       "       ...\n",
       "       2167133, 2167155, 2167365, 2167376, 2167459, 2167481, 2167537, 2167556,\n",
       "       2167557, 2167561],\n",
       "      dtype='int64', length=42496)"
      ]
     },
     "execution_count": 12,
     "metadata": {},
     "output_type": "execute_result"
    }
   ],
   "source": [
    "# หาแถวที่ข้อมูลมีค่าติดลบ ของ column NumberOfItemsPurchased\n",
    "problem_idx = df[(df.NumberOfItemsPurchased < 0 ) ].index\n",
    "problem_idx"
   ]
  },
  {
   "cell_type": "code",
   "execution_count": 13,
   "id": "1f9605de-adc9-469f-846d-8cbdb335ee98",
   "metadata": {},
   "outputs": [
    {
     "data": {
      "text/plain": [
       "Index([35768, 768321, 966149, 988377, 1119586, 1852139, 2049967, 2072195], dtype='int64')"
      ]
     },
     "execution_count": 13,
     "metadata": {},
     "output_type": "execute_result"
    }
   ],
   "source": [
    "# หาแถวที่ข้อมูลมีค่าติดลบ ของ column CostPerItem\n",
    "problem_idx = df[(df.CostPerItem < 0 ) ].index\n",
    "problem_idx"
   ]
  },
  {
   "cell_type": "code",
   "execution_count": 14,
   "id": "b5334016-9f00-4094-935f-eeb81ce7fdcd",
   "metadata": {},
   "outputs": [
    {
     "name": "stdout",
     "output_type": "stream",
     "text": [
      "Number of rows with CostPerItem < 0: 8\n"
     ]
    }
   ],
   "source": [
    "problem_count = len(problem_idx)\n",
    "print(f\"Number of rows with CostPerItem < 0: {problem_count}\")"
   ]
  },
  {
   "cell_type": "code",
   "execution_count": 15,
   "id": "d3741534-0b25-42f6-b74f-cb8e94904771",
   "metadata": {},
   "outputs": [],
   "source": [
    "# เริ่มทำการลบข้อมูลที่ติดลบของ column: UserId\n",
    "problem_idx = df[(df.UserId < 0 ) ].index\n",
    "df.drop(problem_idx, inplace=True)"
   ]
  },
  {
   "cell_type": "code",
   "execution_count": 16,
   "id": "0cc65e31-2c65-43d6-88c2-0d5876ba20c8",
   "metadata": {},
   "outputs": [
    {
     "data": {
      "text/plain": [
       "(1627316, 8)"
      ]
     },
     "execution_count": 16,
     "metadata": {},
     "output_type": "execute_result"
    }
   ],
   "source": [
    "df.shape   # หลังจากลบข้อมูลที่ติดลบของ column: UserId แล้ว จำนวนแถวข้อมูลจะเหลือ 1,627,316 ข้อมูล"
   ]
  },
  {
   "cell_type": "code",
   "execution_count": 17,
   "id": "2f2efeed-dcc6-48d6-bc3b-cc988b93dcf6",
   "metadata": {},
   "outputs": [],
   "source": [
    "# เริ่มทำการลบข้อมูลที่ติดลบของ column: ItemCode\n",
    "problem_idx = df[(df.ItemCode < 0 ) ].index\n",
    "df.drop(problem_idx, inplace=True)"
   ]
  },
  {
   "cell_type": "code",
   "execution_count": 18,
   "id": "355df390-2781-4549-90a1-b3b0751e3af4",
   "metadata": {},
   "outputs": [
    {
     "data": {
      "text/plain": [
       "(1620172, 8)"
      ]
     },
     "execution_count": 18,
     "metadata": {},
     "output_type": "execute_result"
    }
   ],
   "source": [
    "df.shape   # หลังจากลบข้อมูลที่ติดลบของ column: ItemCode แล้ว จำนวนแถวข้อมูลจะเหลือ 1,620,172 ข้อมูล"
   ]
  },
  {
   "cell_type": "code",
   "execution_count": 19,
   "id": "b318228e-2b5d-4c87-bb0d-79fff74f0468",
   "metadata": {},
   "outputs": [],
   "source": [
    "# เริ่มทำการลบข้อมูลที่ติดลบของ column: NumberOfItemsPurchased\n",
    "problem_idx = df[(df.NumberOfItemsPurchased < 0 ) ].index\n",
    "df.drop(problem_idx, inplace=True)"
   ]
  },
  {
   "cell_type": "code",
   "execution_count": 20,
   "id": "a08f3e7c-174a-4e96-aa1d-4a7b6f5669b0",
   "metadata": {},
   "outputs": [
    {
     "data": {
      "text/plain": [
       "(1586012, 8)"
      ]
     },
     "execution_count": 20,
     "metadata": {},
     "output_type": "execute_result"
    }
   ],
   "source": [
    "df.shape   # หลังจากลบข้อมูลที่ติดลบของ column: NumberOfItemsPurchased แล้ว จำนวนแถวข้อมูลจะเหลือ 1,586,012 ข้อมูล"
   ]
  },
  {
   "cell_type": "code",
   "execution_count": 21,
   "id": "af12a028-fd46-4b78-a82a-58511c8e08bf",
   "metadata": {},
   "outputs": [],
   "source": [
    "# เริ่มทำการลบข้อมูลที่ติดลบของ column: CostPerItem\n",
    "problem_idx = df[(df.CostPerItem < 0 ) ].index\n",
    "df.drop(problem_idx, inplace=True)"
   ]
  },
  {
   "cell_type": "code",
   "execution_count": 22,
   "id": "a2df282b-2dba-4c81-a014-2840890b944a",
   "metadata": {},
   "outputs": [
    {
     "data": {
      "text/plain": [
       "(1586012, 8)"
      ]
     },
     "execution_count": 22,
     "metadata": {},
     "output_type": "execute_result"
    }
   ],
   "source": [
    "df.shape   # หลังจากลบข้อมูลที่ติดลบของ column: CostPerItem แล้ว จำนวนแถวข้อมูลจะเหลือ 1,586,012 ข้อมูล"
   ]
  },
  {
   "cell_type": "code",
   "execution_count": 23,
   "id": "3c3700e5-97ed-45d1-89bf-f873810f9361",
   "metadata": {},
   "outputs": [
    {
     "data": {
      "text/html": [
       "<div>\n",
       "<style scoped>\n",
       "    .dataframe tbody tr th:only-of-type {\n",
       "        vertical-align: middle;\n",
       "    }\n",
       "\n",
       "    .dataframe tbody tr th {\n",
       "        vertical-align: top;\n",
       "    }\n",
       "\n",
       "    .dataframe thead th {\n",
       "        text-align: right;\n",
       "    }\n",
       "</style>\n",
       "<table border=\"1\" class=\"dataframe\">\n",
       "  <thead>\n",
       "    <tr style=\"text-align: right;\">\n",
       "      <th></th>\n",
       "      <th>UserId</th>\n",
       "      <th>TransactionId</th>\n",
       "      <th>ItemCode</th>\n",
       "      <th>NumberOfItemsPurchased</th>\n",
       "      <th>CostPerItem</th>\n",
       "    </tr>\n",
       "  </thead>\n",
       "  <tbody>\n",
       "    <tr>\n",
       "      <th>count</th>\n",
       "      <td>1.586012e+06</td>\n",
       "      <td>1.586012e+06</td>\n",
       "      <td>1.586012e+06</td>\n",
       "      <td>1.586012e+06</td>\n",
       "      <td>1.586012e+06</td>\n",
       "    </tr>\n",
       "    <tr>\n",
       "      <th>mean</th>\n",
       "      <td>3.213286e+05</td>\n",
       "      <td>6.166808e+06</td>\n",
       "      <td>6.458100e+05</td>\n",
       "      <td>3.912731e+01</td>\n",
       "      <td>8.263217e+00</td>\n",
       "    </tr>\n",
       "    <tr>\n",
       "      <th>std</th>\n",
       "      <td>3.590563e+04</td>\n",
       "      <td>1.441687e+05</td>\n",
       "      <td>4.328211e+05</td>\n",
       "      <td>5.421097e+02</td>\n",
       "      <td>2.693862e+03</td>\n",
       "    </tr>\n",
       "    <tr>\n",
       "      <th>min</th>\n",
       "      <td>2.592660e+05</td>\n",
       "      <td>5.900015e+06</td>\n",
       "      <td>4.200000e+01</td>\n",
       "      <td>3.000000e+00</td>\n",
       "      <td>0.000000e+00</td>\n",
       "    </tr>\n",
       "    <tr>\n",
       "      <th>25%</th>\n",
       "      <td>2.934750e+05</td>\n",
       "      <td>6.041585e+06</td>\n",
       "      <td>4.625670e+05</td>\n",
       "      <td>6.000000e+00</td>\n",
       "      <td>1.730000e+00</td>\n",
       "    </tr>\n",
       "    <tr>\n",
       "      <th>50%</th>\n",
       "      <td>3.183390e+05</td>\n",
       "      <td>6.180823e+06</td>\n",
       "      <td>4.759860e+05</td>\n",
       "      <td>1.800000e+01</td>\n",
       "      <td>2.700000e+00</td>\n",
       "    </tr>\n",
       "    <tr>\n",
       "      <th>75%</th>\n",
       "      <td>3.528210e+05</td>\n",
       "      <td>6.293012e+06</td>\n",
       "      <td>4.886700e+05</td>\n",
       "      <td>3.600000e+01</td>\n",
       "      <td>5.180000e+00</td>\n",
       "    </tr>\n",
       "    <tr>\n",
       "      <th>max</th>\n",
       "      <td>3.840270e+05</td>\n",
       "      <td>6.397457e+06</td>\n",
       "      <td>1.894494e+06</td>\n",
       "      <td>2.429850e+05</td>\n",
       "      <td>1.696285e+06</td>\n",
       "    </tr>\n",
       "  </tbody>\n",
       "</table>\n",
       "</div>"
      ],
      "text/plain": [
       "             UserId  TransactionId      ItemCode  NumberOfItemsPurchased  \\\n",
       "count  1.586012e+06   1.586012e+06  1.586012e+06            1.586012e+06   \n",
       "mean   3.213286e+05   6.166808e+06  6.458100e+05            3.912731e+01   \n",
       "std    3.590563e+04   1.441687e+05  4.328211e+05            5.421097e+02   \n",
       "min    2.592660e+05   5.900015e+06  4.200000e+01            3.000000e+00   \n",
       "25%    2.934750e+05   6.041585e+06  4.625670e+05            6.000000e+00   \n",
       "50%    3.183390e+05   6.180823e+06  4.759860e+05            1.800000e+01   \n",
       "75%    3.528210e+05   6.293012e+06  4.886700e+05            3.600000e+01   \n",
       "max    3.840270e+05   6.397457e+06  1.894494e+06            2.429850e+05   \n",
       "\n",
       "        CostPerItem  \n",
       "count  1.586012e+06  \n",
       "mean   8.263217e+00  \n",
       "std    2.693862e+03  \n",
       "min    0.000000e+00  \n",
       "25%    1.730000e+00  \n",
       "50%    2.700000e+00  \n",
       "75%    5.180000e+00  \n",
       "max    1.696285e+06  "
      ]
     },
     "execution_count": 23,
     "metadata": {},
     "output_type": "execute_result"
    }
   ],
   "source": [
    "df.describe()  # ที่ค่า min ของแต่ละ column ต้องไม่มีค่าติดลบแล้ว"
   ]
  },
  {
   "cell_type": "code",
   "execution_count": 24,
   "id": "feb4934d-a647-428f-a10a-4dca583efd57",
   "metadata": {},
   "outputs": [
    {
     "name": "stdout",
     "output_type": "stream",
     "text": [
      "<class 'pandas.core.frame.DataFrame'>\n",
      "Index: 1586012 entries, 0 to 2167635\n",
      "Data columns (total 8 columns):\n",
      " #   Column                  Non-Null Count    Dtype  \n",
      "---  ------                  --------------    -----  \n",
      " 0   UserId                  1586012 non-null  int64  \n",
      " 1   TransactionId           1586012 non-null  int64  \n",
      " 2   TransactionTime         1586012 non-null  object \n",
      " 3   ItemCode                1586012 non-null  int64  \n",
      " 4   ItemDescription         1586012 non-null  object \n",
      " 5   NumberOfItemsPurchased  1586012 non-null  int64  \n",
      " 6   CostPerItem             1586012 non-null  float64\n",
      " 7   Country                 1586012 non-null  object \n",
      "dtypes: float64(1), int64(4), object(3)\n",
      "memory usage: 108.9+ MB\n"
     ]
    }
   ],
   "source": [
    "df.info()"
   ]
  },
  {
   "cell_type": "code",
   "execution_count": 25,
   "id": "584bd2ae-a2d6-4663-9669-3feab46637b8",
   "metadata": {},
   "outputs": [],
   "source": [
    "# Save file ข้อมูลที่ Cleaning แล้ว\n",
    "df.to_csv('transaction_data_clean.csv', index=False)"
   ]
  },
  {
   "cell_type": "code",
   "execution_count": 26,
   "id": "90897aa1-4148-49d2-bbb7-218de407a0c4",
   "metadata": {},
   "outputs": [
    {
     "data": {
      "text/html": [
       "<div>\n",
       "<style scoped>\n",
       "    .dataframe tbody tr th:only-of-type {\n",
       "        vertical-align: middle;\n",
       "    }\n",
       "\n",
       "    .dataframe tbody tr th {\n",
       "        vertical-align: top;\n",
       "    }\n",
       "\n",
       "    .dataframe thead th {\n",
       "        text-align: right;\n",
       "    }\n",
       "</style>\n",
       "<table border=\"1\" class=\"dataframe\">\n",
       "  <thead>\n",
       "    <tr style=\"text-align: right;\">\n",
       "      <th></th>\n",
       "      <th>UserId</th>\n",
       "      <th>TransactionId</th>\n",
       "      <th>TransactionTime</th>\n",
       "      <th>ItemCode</th>\n",
       "      <th>ItemDescription</th>\n",
       "      <th>NumberOfItemsPurchased</th>\n",
       "      <th>CostPerItem</th>\n",
       "      <th>Country</th>\n",
       "    </tr>\n",
       "  </thead>\n",
       "  <tbody>\n",
       "    <tr>\n",
       "      <th>0</th>\n",
       "      <td>278166</td>\n",
       "      <td>6355745</td>\n",
       "      <td>Sat Feb 02 12:50:00 IST 2019</td>\n",
       "      <td>465549</td>\n",
       "      <td>FAMILY ALBUM WHITE PICTURE FRAME</td>\n",
       "      <td>6</td>\n",
       "      <td>11.73</td>\n",
       "      <td>United Kingdom</td>\n",
       "    </tr>\n",
       "    <tr>\n",
       "      <th>1</th>\n",
       "      <td>337701</td>\n",
       "      <td>6283376</td>\n",
       "      <td>Wed Dec 26 09:06:00 IST 2018</td>\n",
       "      <td>482370</td>\n",
       "      <td>LONDON BUS COFFEE MUG</td>\n",
       "      <td>3</td>\n",
       "      <td>3.52</td>\n",
       "      <td>United Kingdom</td>\n",
       "    </tr>\n",
       "    <tr>\n",
       "      <th>2</th>\n",
       "      <td>267099</td>\n",
       "      <td>6385599</td>\n",
       "      <td>Fri Feb 15 09:45:00 IST 2019</td>\n",
       "      <td>490728</td>\n",
       "      <td>SET 12 COLOUR PENCILS DOLLY GIRL</td>\n",
       "      <td>72</td>\n",
       "      <td>0.90</td>\n",
       "      <td>France</td>\n",
       "    </tr>\n",
       "    <tr>\n",
       "      <th>3</th>\n",
       "      <td>380478</td>\n",
       "      <td>6044973</td>\n",
       "      <td>Fri Jun 22 07:14:00 IST 2018</td>\n",
       "      <td>459186</td>\n",
       "      <td>UNION JACK FLAG LUGGAGE TAG</td>\n",
       "      <td>3</td>\n",
       "      <td>1.73</td>\n",
       "      <td>United Kingdom</td>\n",
       "    </tr>\n",
       "    <tr>\n",
       "      <th>5</th>\n",
       "      <td>285957</td>\n",
       "      <td>6307136</td>\n",
       "      <td>Fri Jan 11 09:50:00 IST 2019</td>\n",
       "      <td>1787247</td>\n",
       "      <td>CUT GLASS T-LIGHT HOLDER OCTAGON</td>\n",
       "      <td>12</td>\n",
       "      <td>3.52</td>\n",
       "      <td>United Kingdom</td>\n",
       "    </tr>\n",
       "    <tr>\n",
       "      <th>...</th>\n",
       "      <td>...</td>\n",
       "      <td>...</td>\n",
       "      <td>...</td>\n",
       "      <td>...</td>\n",
       "      <td>...</td>\n",
       "      <td>...</td>\n",
       "      <td>...</td>\n",
       "      <td>...</td>\n",
       "    </tr>\n",
       "    <tr>\n",
       "      <th>2167630</th>\n",
       "      <td>261681</td>\n",
       "      <td>6153092</td>\n",
       "      <td>Wed Sep 19 06:23:00 IST 2018</td>\n",
       "      <td>477330</td>\n",
       "      <td>ALARM CLOCK BAKELIKE IVORY</td>\n",
       "      <td>12</td>\n",
       "      <td>5.18</td>\n",
       "      <td>Switzerland</td>\n",
       "    </tr>\n",
       "    <tr>\n",
       "      <th>2167631</th>\n",
       "      <td>313131</td>\n",
       "      <td>6040298</td>\n",
       "      <td>Mon Jun 18 09:18:00 IST 2018</td>\n",
       "      <td>437976</td>\n",
       "      <td>DENIM PATCH PURSE PINK BUTTERFLY</td>\n",
       "      <td>30</td>\n",
       "      <td>2.28</td>\n",
       "      <td>EIRE</td>\n",
       "    </tr>\n",
       "    <tr>\n",
       "      <th>2167632</th>\n",
       "      <td>295743</td>\n",
       "      <td>6387117</td>\n",
       "      <td>Sat Feb 16 09:14:00 IST 2019</td>\n",
       "      <td>484113</td>\n",
       "      <td>RECYCLED ACAPULCO MAT PINK</td>\n",
       "      <td>6</td>\n",
       "      <td>11.39</td>\n",
       "      <td>United Kingdom</td>\n",
       "    </tr>\n",
       "    <tr>\n",
       "      <th>2167634</th>\n",
       "      <td>324765</td>\n",
       "      <td>5945500</td>\n",
       "      <td>Fri Mar 23 06:26:00 IST 2018</td>\n",
       "      <td>470883</td>\n",
       "      <td>REGENCY CAKESTAND 3 TIER</td>\n",
       "      <td>48</td>\n",
       "      <td>15.12</td>\n",
       "      <td>United Kingdom</td>\n",
       "    </tr>\n",
       "    <tr>\n",
       "      <th>2167635</th>\n",
       "      <td>351645</td>\n",
       "      <td>6118145</td>\n",
       "      <td>Tue Aug 21 08:21:00 IST 2018</td>\n",
       "      <td>471849</td>\n",
       "      <td>HEART OF WICKER SMALL</td>\n",
       "      <td>9</td>\n",
       "      <td>2.28</td>\n",
       "      <td>United Kingdom</td>\n",
       "    </tr>\n",
       "  </tbody>\n",
       "</table>\n",
       "<p>1586012 rows × 8 columns</p>\n",
       "</div>"
      ],
      "text/plain": [
       "         UserId  TransactionId               TransactionTime  ItemCode  \\\n",
       "0        278166        6355745  Sat Feb 02 12:50:00 IST 2019    465549   \n",
       "1        337701        6283376  Wed Dec 26 09:06:00 IST 2018    482370   \n",
       "2        267099        6385599  Fri Feb 15 09:45:00 IST 2019    490728   \n",
       "3        380478        6044973  Fri Jun 22 07:14:00 IST 2018    459186   \n",
       "5        285957        6307136  Fri Jan 11 09:50:00 IST 2019   1787247   \n",
       "...         ...            ...                           ...       ...   \n",
       "2167630  261681        6153092  Wed Sep 19 06:23:00 IST 2018    477330   \n",
       "2167631  313131        6040298  Mon Jun 18 09:18:00 IST 2018    437976   \n",
       "2167632  295743        6387117  Sat Feb 16 09:14:00 IST 2019    484113   \n",
       "2167634  324765        5945500  Fri Mar 23 06:26:00 IST 2018    470883   \n",
       "2167635  351645        6118145  Tue Aug 21 08:21:00 IST 2018    471849   \n",
       "\n",
       "                           ItemDescription  NumberOfItemsPurchased  \\\n",
       "0         FAMILY ALBUM WHITE PICTURE FRAME                       6   \n",
       "1                    LONDON BUS COFFEE MUG                       3   \n",
       "2        SET 12 COLOUR PENCILS DOLLY GIRL                       72   \n",
       "3              UNION JACK FLAG LUGGAGE TAG                       3   \n",
       "5         CUT GLASS T-LIGHT HOLDER OCTAGON                      12   \n",
       "...                                    ...                     ...   \n",
       "2167630         ALARM CLOCK BAKELIKE IVORY                      12   \n",
       "2167631   DENIM PATCH PURSE PINK BUTTERFLY                      30   \n",
       "2167632         RECYCLED ACAPULCO MAT PINK                       6   \n",
       "2167634           REGENCY CAKESTAND 3 TIER                      48   \n",
       "2167635              HEART OF WICKER SMALL                       9   \n",
       "\n",
       "         CostPerItem         Country  \n",
       "0              11.73  United Kingdom  \n",
       "1               3.52  United Kingdom  \n",
       "2               0.90          France  \n",
       "3               1.73  United Kingdom  \n",
       "5               3.52  United Kingdom  \n",
       "...              ...             ...  \n",
       "2167630         5.18     Switzerland  \n",
       "2167631         2.28            EIRE  \n",
       "2167632        11.39  United Kingdom  \n",
       "2167634        15.12  United Kingdom  \n",
       "2167635         2.28  United Kingdom  \n",
       "\n",
       "[1586012 rows x 8 columns]"
      ]
     },
     "execution_count": 26,
     "metadata": {},
     "output_type": "execute_result"
    }
   ],
   "source": [
    "df"
   ]
  },
  {
   "cell_type": "code",
   "execution_count": 27,
   "id": "b2ada94f-3372-42bf-98c7-86b5d220f5ae",
   "metadata": {},
   "outputs": [],
   "source": [
    "# load ข้อมูลที่ Clean แล้ว\n",
    "df = pd.read_csv('transaction_data_clean.csv')"
   ]
  },
  {
   "cell_type": "code",
   "execution_count": 28,
   "id": "df3b868b-19ea-4975-a043-c1043adc93f0",
   "metadata": {},
   "outputs": [],
   "source": [
    "# เริ่มวิเคราะห์ข้อที่ 1:\n",
    "# 1.วิเคราะห์ข้อมูลเพื่อสร้าง regression model ที่มี dependent variable คือ ยอดขายของสินค้าแต่ละประเภทและมี independent variable คือ ราคาต่อหน่วย\n",
    "\n",
    "x_var = df['CostPerItem']\n",
    "y_var = df['NumberOfItemsPurchased']"
   ]
  },
  {
   "cell_type": "code",
   "execution_count": 29,
   "id": "18754c04-c85f-4a40-b665-f04d9eecc3d9",
   "metadata": {},
   "outputs": [
    {
     "data": {
      "text/plain": [
       "0          11.73\n",
       "1           3.52\n",
       "2           0.90\n",
       "3           1.73\n",
       "4           3.52\n",
       "           ...  \n",
       "1586007     5.18\n",
       "1586008     2.28\n",
       "1586009    11.39\n",
       "1586010    15.12\n",
       "1586011     2.28\n",
       "Name: CostPerItem, Length: 1586012, dtype: float64"
      ]
     },
     "execution_count": 29,
     "metadata": {},
     "output_type": "execute_result"
    }
   ],
   "source": [
    "x_var"
   ]
  },
  {
   "cell_type": "code",
   "execution_count": 30,
   "id": "992f82d4-2b4c-4f85-a3b9-41a755938650",
   "metadata": {},
   "outputs": [
    {
     "data": {
      "text/plain": [
       "0           6\n",
       "1           3\n",
       "2          72\n",
       "3           3\n",
       "4          12\n",
       "           ..\n",
       "1586007    12\n",
       "1586008    30\n",
       "1586009     6\n",
       "1586010    48\n",
       "1586011     9\n",
       "Name: NumberOfItemsPurchased, Length: 1586012, dtype: int64"
      ]
     },
     "execution_count": 30,
     "metadata": {},
     "output_type": "execute_result"
    }
   ],
   "source": [
    "y_var"
   ]
  },
  {
   "cell_type": "code",
   "execution_count": 31,
   "id": "b2534598-159f-40cb-8e8a-993d702ea9b9",
   "metadata": {},
   "outputs": [],
   "source": [
    "import matplotlib.pyplot as plt\n",
    "import numpy as np"
   ]
  },
  {
   "cell_type": "code",
   "execution_count": 32,
   "id": "eb177b15-42df-4454-a2e1-6869717e70b6",
   "metadata": {},
   "outputs": [
    {
     "data": {
      "image/png": "[encoded data removed]",
      "text/plain": [
       "<Figure size 640x480 with 1 Axes>"
      ]
     },
     "metadata": {},
     "output_type": "display_data"
    }
   ],
   "source": [
    "plt.scatter(x_var,y_var)\n",
    "plt.grid()\n",
    "plt.show()\n",
    "# กราฟ Scatter Plot ที่ได้จะยังดูไม่ค่อยเห็นแนวโน้ม ต้องกำจัดข้อมูลที่เป็น Outlier ออกไปก่อน"
   ]
  },
  {
   "cell_type": "code",
   "execution_count": 33,
   "id": "ff8d88b1-8303-4baa-806d-7d42c113934f",
   "metadata": {},
   "outputs": [],
   "source": [
    "# กำจัดค่า Outlier ของข้อมูลใน Column: CostPerItem(x)\n",
    "Q1 = df['CostPerItem'].quantile(0.25)\n",
    "Q3 = df['CostPerItem'].quantile(0.75)\n",
    "IQR = Q3 - Q1\n",
    "\n",
    "# Keep only the data points within the IQR range\n",
    "df_no_outliers = df[(df['CostPerItem'] >= Q1 - 1.5 * IQR) & (df['CostPerItem'] <= Q3 + 1.5 * IQR)]\n"
   ]
  },
  {
   "cell_type": "code",
   "execution_count": 34,
   "id": "db73d3d0-f668-446d-8749-aa88dcb95a38",
   "metadata": {},
   "outputs": [],
   "source": [
    "x_var_no_outliers = df_no_outliers['CostPerItem']\n",
    "y_var_no_outliers = df_no_outliers['NumberOfItemsPurchased']"
   ]
  },
  {
   "cell_type": "code",
   "execution_count": 35,
   "id": "b53962ad-c81d-4135-8262-96ed43033326",
   "metadata": {},
   "outputs": [
    {
     "data": {
      "image/png": "[encoded data removed]",
      "text/plain": [
       "<Figure size 640x480 with 1 Axes>"
      ]
     },
     "metadata": {},
     "output_type": "display_data"
    }
   ],
   "source": [
    "plt.scatter(x_var_no_outliers,y_var_no_outliers)\n",
    "plt.xlabel('CostPerItem')\n",
    "plt.ylabel('NumberOfItemsPurchased')\n",
    "plt.grid()\n",
    "plt.show()\n",
    "# กราฟ Scatter Plot ที่ได้จะเริ่มเห็นแนวโน้มมากขึ้น"
   ]
  },
  {
   "cell_type": "code",
   "execution_count": 36,
   "id": "cac042d9-872c-4862-8500-698f1f0406e2",
   "metadata": {},
   "outputs": [],
   "source": [
    "#เปลี่ยนข้อมูลให้อยู่ในรูป Array\n",
    "x = np.array(x_var)\n",
    "y = np.array(y_var)"
   ]
  },
  {
   "cell_type": "code",
   "execution_count": 37,
   "id": "e577d929-fc72-4818-95d3-dae9c3a10a7e",
   "metadata": {},
   "outputs": [],
   "source": [
    "from sklearn.linear_model import LinearRegression"
   ]
  },
  {
   "cell_type": "code",
   "execution_count": 38,
   "id": "894aad73-09d1-4a34-99c8-8b59e10a56ae",
   "metadata": {},
   "outputs": [
    {
     "data": {
      "text/plain": [
       "array([[11.73],\n",
       "       [ 3.52],\n",
       "       [ 0.9 ],\n",
       "       ...,\n",
       "       [11.39],\n",
       "       [15.12],\n",
       "       [ 2.28]])"
      ]
     },
     "execution_count": 38,
     "metadata": {},
     "output_type": "execute_result"
    }
   ],
   "source": [
    "#แปลงข้อมูลให้อยู่ในรูป 2 มิติ เพื่อใช้ Train ใน Model\n",
    "x = x.reshape(-1,1)\n",
    "x"
   ]
  },
  {
   "cell_type": "code",
   "execution_count": 39,
   "id": "4af573a3-5a1b-49cb-81ad-2e871b5cb122",
   "metadata": {},
   "outputs": [
    {
     "data": {
      "text/plain": [
       "array([[ 6],\n",
       "       [ 3],\n",
       "       [72],\n",
       "       ...,\n",
       "       [ 6],\n",
       "       [48],\n",
       "       [ 9]], dtype=int64)"
      ]
     },
     "execution_count": 39,
     "metadata": {},
     "output_type": "execute_result"
    }
   ],
   "source": [
    "y = y.reshape(-1,1)\n",
    "y"
   ]
  },
  {
   "cell_type": "code",
   "execution_count": 40,
   "id": "bfb156e3-00c8-4125-a6a2-60a3180917dc",
   "metadata": {},
   "outputs": [
    {
     "data": {
      "text/html": [
       "<style>#sk-container-id-1 {color: black;}#sk-container-id-1 pre{padding: 0;}#sk-container-id-1 div.sk-toggleable {background-color: white;}#sk-container-id-1 label.sk-toggleable__label {cursor: pointer;display: block;width: 100%;margin-bottom: 0;padding: 0.3em;box-sizing: border-box;text-align: center;}#sk-container-id-1 label.sk-toggleable__label-arrow:before {content: \"▸\";float: left;margin-right: 0.25em;color: #696969;}#sk-container-id-1 label.sk-toggleable__label-arrow:hover:before {color: black;}#sk-container-id-1 div.sk-estimator:hover label.sk-toggleable__label-arrow:before {color: black;}#sk-container-id-1 div.sk-toggleable__content {max-height: 0;max-width: 0;overflow: hidden;text-align: left;background-color: #f0f8ff;}#sk-container-id-1 div.sk-toggleable__content pre {margin: 0.2em;color: black;border-radius: 0.25em;background-color: #f0f8ff;}#sk-container-id-1 input.sk-toggleable__control:checked~div.sk-toggleable__content {max-height: 200px;max-width: 100%;overflow: auto;}#sk-container-id-1 input.sk-toggleable__control:checked~label.sk-toggleable__label-arrow:before {content: \"▾\";}#sk-container-id-1 div.sk-estimator input.sk-toggleable__control:checked~label.sk-toggleable__label {background-color: #d4ebff;}#sk-container-id-1 div.sk-label input.sk-toggleable__control:checked~label.sk-toggleable__label {background-color: #d4ebff;}#sk-container-id-1 input.sk-hidden--visually {border: 0;clip: rect(1px 1px 1px 1px);clip: rect(1px, 1px, 1px, 1px);height: 1px;margin: -1px;overflow: hidden;padding: 0;position: absolute;width: 1px;}#sk-container-id-1 div.sk-estimator {font-family: monospace;background-color: #f0f8ff;border: 1px dotted black;border-radius: 0.25em;box-sizing: border-box;margin-bottom: 0.5em;}#sk-container-id-1 div.sk-estimator:hover {background-color: #d4ebff;}#sk-container-id-1 div.sk-parallel-item::after {content: \"\";width: 100%;border-bottom: 1px solid gray;flex-grow: 1;}#sk-container-id-1 div.sk-label:hover label.sk-toggleable__label {background-color: #d4ebff;}#sk-container-id-1 div.sk-serial::before {content: \"\";position: absolute;border-left: 1px solid gray;box-sizing: border-box;top: 0;bottom: 0;left: 50%;z-index: 0;}#sk-container-id-1 div.sk-serial {display: flex;flex-direction: column;align-items: center;background-color: white;padding-right: 0.2em;padding-left: 0.2em;position: relative;}#sk-container-id-1 div.sk-item {position: relative;z-index: 1;}#sk-container-id-1 div.sk-parallel {display: flex;align-items: stretch;justify-content: center;background-color: white;position: relative;}#sk-container-id-1 div.sk-item::before, #sk-container-id-1 div.sk-parallel-item::before {content: \"\";position: absolute;border-left: 1px solid gray;box-sizing: border-box;top: 0;bottom: 0;left: 50%;z-index: -1;}#sk-container-id-1 div.sk-parallel-item {display: flex;flex-direction: column;z-index: 1;position: relative;background-color: white;}#sk-container-id-1 div.sk-parallel-item:first-child::after {align-self: flex-end;width: 50%;}#sk-container-id-1 div.sk-parallel-item:last-child::after {align-self: flex-start;width: 50%;}#sk-container-id-1 div.sk-parallel-item:only-child::after {width: 0;}#sk-container-id-1 div.sk-dashed-wrapped {border: 1px dashed gray;margin: 0 0.4em 0.5em 0.4em;box-sizing: border-box;padding-bottom: 0.4em;background-color: white;}#sk-container-id-1 div.sk-label label {font-family: monospace;font-weight: bold;display: inline-block;line-height: 1.2em;}#sk-container-id-1 div.sk-label-container {text-align: center;}#sk-container-id-1 div.sk-container {/* jupyter's `normalize.less` sets `[hidden] { display: none; }` but bootstrap.min.css set `[hidden] { display: none !important; }` so we also need the `!important` here to be able to override the default hidden behavior on the sphinx rendered scikit-learn.org. See: https://github.com/scikit-learn/scikit-learn/issues/21755 */display: inline-block !important;position: relative;}#sk-container-id-1 div.sk-text-repr-fallback {display: none;}</style><div id=\"sk-container-id-1\" class=\"sk-top-container\"><div class=\"sk-text-repr-fallback\"><pre>LinearRegression()</pre><b>In a Jupyter environment, please rerun this cell to show the HTML representation or trust the notebook. <br />On GitHub, the HTML representation is unable to render, please try loading this page with nbviewer.org.</b></div><div class=\"sk-container\" hidden><div class=\"sk-item\"><div class=\"sk-estimator sk-toggleable\"><input class=\"sk-toggleable__control sk-hidden--visually\" id=\"sk-estimator-id-1\" type=\"checkbox\" checked><label for=\"sk-estimator-id-1\" class=\"sk-toggleable__label sk-toggleable__label-arrow\">LinearRegression</label><div class=\"sk-toggleable__content\"><pre>LinearRegression()</pre></div></div></div></div></div>"
      ],
      "text/plain": [
       "LinearRegression()"
      ]
     },
     "execution_count": 40,
     "metadata": {},
     "output_type": "execute_result"
    }
   ],
   "source": [
    "# สร้าง Model Regression และ Train Model  แบบที่ 1\n",
    "model = LinearRegression()  # เริ่มสร้าง Model (instantiate)\n",
    "model.fit(x, y) # ป้อนข้อมูล x y ให้ computer เรียนรู้แล้วสร้าง Model ให้ Train"
   ]
  },
  {
   "cell_type": "code",
   "execution_count": 41,
   "id": "eb1f1674-26cb-44cd-82e5-cf0ae5c94f6e",
   "metadata": {},
   "outputs": [
    {
     "name": "stdout",
     "output_type": "stream",
     "text": [
      "Coefficients: [[-1.77619526e-05]]\n",
      "Intercept: [39.12745476]\n"
     ]
    }
   ],
   "source": [
    "# Access the coefficients and intercept\n",
    "coefficients = model.coef_\n",
    "intercept = model.intercept_\n",
    "\n",
    "# Display the coefficients and intercept\n",
    "print(\"Coefficients:\", coefficients)\n",
    "print(\"Intercept:\", intercept)"
   ]
  },
  {
   "cell_type": "code",
   "execution_count": 42,
   "id": "c557a452-4ee1-49bc-b9bc-0963b43c7cde",
   "metadata": {},
   "outputs": [
    {
     "data": {
      "text/plain": [
       "array([[38.93209104],\n",
       "       [39.12718833],\n",
       "       [39.12709952]])"
      ]
     },
     "execution_count": 42,
     "metadata": {},
     "output_type": "execute_result"
    }
   ],
   "source": [
    "# ทดลองให้ Model ทำนายค่าใหม่ๆ\n",
    "model.predict([[10999], [15], [20]])  # ต้องเป็น input 2D มี [[]] (วงเล็บสี่เหลี่ยม 2 ชั้น)"
   ]
  },
  {
   "cell_type": "code",
   "execution_count": 43,
   "id": "a43a3edf-9895-4425-9531-85b6bb66b9e9",
   "metadata": {},
   "outputs": [
    {
     "name": "stdout",
     "output_type": "stream",
     "text": [
      "                            OLS Regression Results                            \n",
      "==============================================================================\n",
      "Dep. Variable:                      y   R-squared:                       0.000\n",
      "Model:                            OLS   Adj. R-squared:                 -0.000\n",
      "Method:                 Least Squares   F-statistic:                   0.01236\n",
      "Date:                Wed, 22 Nov 2023   Prob (F-statistic):              0.911\n",
      "Time:                        00:18:19   Log-Likelihood:            -1.2235e+07\n",
      "No. Observations:             1586012   AIC:                         2.447e+07\n",
      "Df Residuals:                 1586010   BIC:                         2.447e+07\n",
      "Df Model:                           1                                         \n",
      "Covariance Type:            nonrobust                                         \n",
      "==============================================================================\n",
      "                 coef    std err          t      P>|t|      [0.025      0.975]\n",
      "------------------------------------------------------------------------------\n",
      "const         39.1275      0.430     90.896      0.000      38.284      39.971\n",
      "x1         -1.776e-05      0.000     -0.111      0.911      -0.000       0.000\n",
      "================================================================================\n",
      "Omnibus:                  9392813.884   Durbin-Watson:                     2.000\n",
      "Prob(Omnibus):                  0.000   Jarque-Bera (JB):   1989197179473287.000\n",
      "Skew:                         402.860   Prob(JB):                           0.00\n",
      "Kurtosis:                  173497.863   Cond. No.                       2.69e+03\n",
      "================================================================================\n",
      "\n",
      "Notes:\n",
      "[1] Standard Errors assume that the covariance matrix of the errors is correctly specified.\n",
      "[2] The condition number is large, 2.69e+03. This might indicate that there are\n",
      "strong multicollinearity or other numerical problems.\n"
     ]
    }
   ],
   "source": [
    "# สร้าง Model Regression และ Train Model  แบบที่ 2\n",
    "\n",
    "import statsmodels.api as sm\n",
    "\n",
    "# Assuming df is your DataFrame with columns 'ItemAmount' and 'PricePerPiece'\n",
    "x1 = sm.add_constant(x)  # Add a constant term for the intercept\n",
    "y1 = y\n",
    "\n",
    "model = sm.OLS(y1, x1).fit()\n",
    "\n",
    "# Print the regression results\n",
    "print(model.summary())\n"
   ]
  },
  {
   "cell_type": "code",
   "execution_count": 44,
   "id": "ace709b9-0d33-4f0c-a814-af1c9d6cb94d",
   "metadata": {},
   "outputs": [
    {
     "data": {
      "text/plain": [
       "0    38.932091\n",
       "1    39.127188\n",
       "2    39.127100\n",
       "dtype: float64"
      ]
     },
     "execution_count": 44,
     "metadata": {},
     "output_type": "execute_result"
    }
   ],
   "source": [
    "# ทดลองให้ Model ทำนายค่าใหม่ๆ\n",
    "new_data = pd.DataFrame({'NewData': [10999.0, 15.0, 20.0]})\n",
    "\n",
    "# Add a constant term for the intercept\n",
    "new_data = sm.add_constant(new_data)\n",
    "\n",
    "# Make predictions\n",
    "predictions = model.predict(new_data)\n",
    "predictions"
   ]
  }
 ],
 "metadata": {
  "kernelspec": {
   "display_name": "Python 3 (ipykernel)",
   "language": "python",
   "name": "python3"
  },
  "language_info": {
   "codemirror_mode": {
    "name": "ipython",
    "version": 3
   },
   "file_extension": ".py",
   "mimetype": "text/x-python",
   "name": "python",
   "nbconvert_exporter": "python",
   "pygments_lexer": "ipython3",
   "version": "3.11.5"
  }
 },
 "nbformat": 4,
 "nbformat_minor": 5
}
